{
 "cells": [
  {
   "cell_type": "code",
   "execution_count": 2,
   "metadata": {},
   "outputs": [],
   "source": [
    "import numpy as np\n",
    "from matplotlib import pyplot as plot"
   ]
  },
  {
   "cell_type": "code",
   "execution_count": 3,
   "metadata": {},
   "outputs": [],
   "source": [
    "def addOne(X):\n",
    "    temp= np.ones([X.shape[0],X.shape[1] + 1])\n",
    "    temp[...,1:] = X\n",
    "    return temp"
   ]
  },
  {
   "cell_type": "code",
   "execution_count": 4,
   "metadata": {},
   "outputs": [],
   "source": [
    "#Scaling large values down\n",
    "def scaleDown(arr):\n",
    "    cols = arr.shape[1]\n",
    "    means = np.zeros([cols,1])\n",
    "    stds = np.zeros([cols,1])\n",
    "    for i in range(cols):\n",
    "        means[i] = np.mean(arr[...,i])\n",
    "        stds[i] = np.std(arr[...,i])\n",
    "        arr[...,i] = (arr[...,i] - means[i])/stds[i]\n",
    "    return [arr,means,stds]"
   ]
  },
  {
   "cell_type": "code",
   "execution_count": 5,
   "metadata": {},
   "outputs": [],
   "source": [
    "def gradientDescent(X,Y,theta,alpha,iterations):\n",
    "    m = Y.shape[1]\n",
    "    for i in range(iterations):\n",
    "        theta = theta  - ((1/m) * alpha) * (np.matmul(X.T,np.matmul(X,theta) - Y))\n",
    "\n",
    "    return theta"
   ]
  },
  {
   "cell_type": "code",
   "execution_count": 6,
   "metadata": {},
   "outputs": [],
   "source": [
    "def normalEquation(X,Y):\n",
    "    return np.matmul(np.linalg.inv(np.matmul(X.T,X)),np.matmul(X.T,Y))"
   ]
  },
  {
   "cell_type": "code",
   "execution_count": 7,
   "metadata": {},
   "outputs": [],
   "source": [
    "X = np.loadtxt('insurance.csv',dtype=None,delimiter=',')\n",
    "Y = X[...,X.shape[1]-1].reshape([X.shape[0],1])\n",
    "#Separating the dataset and the answer\n",
    "X = np.delete(X,X.shape[1]-1,1)\n",
    "\n",
    "#Scaling down all the values\n",
    "[X,means,stds] = scaleDown(X)\n",
    "X = addOne(X)\n",
    "\n",
    "alpha  = 0.0003 \n",
    "iterations = 20000\n",
    "\n",
    "gradientDescentResult = gradientDescent(X,Y,np.ones([X.shape[1],1]),alpha,iterations)\n",
    "normalEquationResult = normalEquation(X,Y)"
   ]
  },
  {
   "cell_type": "code",
   "execution_count": 8,
   "metadata": {},
   "outputs": [
    {
     "name": "stdout",
     "output_type": "stream",
     "text": [
      "Testing for 26,0,28.785,0,0...\n",
      "Expected value : 3385.39915\n",
      "Calculated result : [[3927.90160772]]\n",
      "Testing for 21,0,22.135,0,0,...\n",
      "Expected value : 2585.85065\n",
      "Calculated result : [[495.50464304]]\n",
      "Testing for 60,0,18.335,0,0,...\n",
      "Expected value : 13204.28565\n",
      "Calculated result : [[9322.18514709]]\n",
      "Testing for 31,0,38.095,1,1,...\n",
      "Expected value : 58571.07448\n",
      "Calculated result : [[32515.59103419]]\n",
      "Testing for 82,1,39.545,3,1...\n",
      "Expected value : X\n",
      "Calculated result : [[46947.68590399]]\n"
     ]
    }
   ],
   "source": [
    "print(\"Testing for 26,0,28.785,0,0...\\nExpected value : 3385.39915\")\n",
    "test = np.array([[1],[26],[0],[28.785],[0],[0]])\n",
    "test[1:,...] = (test[1:,...]-means)/stds\n",
    "result = np.matmul(gradientDescentResult.T,test)\n",
    "print(f\"Calculated result : {result}\")\n",
    "\n",
    "\n",
    "print(\"Testing for 21,0,22.135,0,0,...\\nExpected value : 2585.85065\")\n",
    "test = np.array([[1],[21],[0],[22.135],[0],[0]])\n",
    "test[1:,...] = (test[1:,...]-means)/stds\n",
    "result = np.matmul(gradientDescentResult.T,test)\n",
    "print(f\"Calculated result : {result}\")\n",
    "\n",
    "\n",
    "print(\"Testing for 60,0,18.335,0,0,...\\nExpected value : 13204.28565\")\n",
    "test = np.array([[1],[60],[0],[18.335],[0],[0]])\n",
    "test[1:,...] = (test[1:,...]-means)/stds\n",
    "result = np.matmul(gradientDescentResult.T,test)\n",
    "print(f\"Calculated result : {result}\")\n",
    "\n",
    "\n",
    "print(\"Testing for 31,0,38.095,1,1,...\\nExpected value : 58571.07448\")\n",
    "test = np.array([[1],[31],[0],[38.095],[1],[1]])\n",
    "test[1:,...] = (test[1:,...]-means)/stds\n",
    "result = np.matmul(gradientDescentResult.T,test)\n",
    "print(f\"Calculated result : {result}\")\n",
    "\n",
    "\n",
    "print(\"Testing for 82,1,39.545,3,1...\\nExpected value : X\")\n",
    "test = np.array([[1],[82],[1],[39.545],[3],[1]])\n",
    "test[1:,...] = (test[1:,...]-means)/stds\n",
    "result = np.matmul(gradientDescentResult.T,test)\n",
    "print(f\"Calculated result : {result}\")\n",
    "# age,sex,bmi,children,smoker,charges"
   ]
  },
  {
   "cell_type": "code",
   "execution_count": null,
   "metadata": {},
   "outputs": [],
   "source": []
  }
 ],
 "metadata": {
  "kernelspec": {
   "display_name": "Python 3",
   "language": "python",
   "name": "python3"
  },
  "language_info": {
   "codemirror_mode": {
    "name": "ipython",
    "version": 3
   },
   "file_extension": ".py",
   "mimetype": "text/x-python",
   "name": "python",
   "nbconvert_exporter": "python",
   "pygments_lexer": "ipython3",
   "version": "3.9.0"
  }
 },
 "nbformat": 4,
 "nbformat_minor": 4
}
