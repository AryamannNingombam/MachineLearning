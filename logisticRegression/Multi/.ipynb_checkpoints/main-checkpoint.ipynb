{
 "cells": [
  {
   "cell_type": "code",
   "execution_count": 21,
   "metadata": {},
   "outputs": [],
   "source": [
    "import numpy as np\n",
    "import pandas as pn\n",
    "import sys\n",
    "sys.path.append(\"../\")\n",
    "from logisticMethods import LogisticRegressionMethods as METHODS\n",
    "#setosa ->0\n",
    "# versicolor->1\n",
    "#virginica ->2\n",
    "values = [\n",
    "    'setosa','versicolor','virginica'\n",
    "]\n",
    "MT = METHODS()\n"
   ]
  },
  {
   "cell_type": "code",
   "execution_count": 22,
   "metadata": {},
   "outputs": [
    {
     "name": "stdout",
     "output_type": "stream",
     "text": [
      "(150, 4)\n",
      "(150, 1)\n",
      "[0.82530129 0.43214658 1.75852918 0.76061262]\n"
     ]
    }
   ],
   "source": [
    "fullDataset = MT.removeBlanks(pn.read_csv(\"./Iris/iris.csv\").values)\n",
    "[X,Y] = MT.returnXY(fullDataset)\n",
    "print(X.shape)\n",
    "print(Y.shape)\n",
    "[X,means,stds] = MT.scaleDown(X)\n",
    "print(stds)"
   ]
  },
  {
   "cell_type": "code",
   "execution_count": 23,
   "metadata": {},
   "outputs": [
    {
     "name": "stdout",
     "output_type": "stream",
     "text": [
      "[5.84333333 3.054      3.75866667 1.19866667]\n"
     ]
    }
   ],
   "source": [
    "print(means)\n",
    "X = MT.addOne(X)\n",
    "[trainingDataset,testingDataset] = MT.splitDataset(X)\n",
    "[trainingResults,testingResults] = MT.splitDataset(Y)"
   ]
  },
  {
   "cell_type": "code",
   "execution_count": 24,
   "metadata": {},
   "outputs": [],
   "source": [
    "def oneVSAll(Y,number):\n",
    "    result = np.ones(Y.shape)\n",
    "    length = Y.shape[0]\n",
    "    for i in range(length):\n",
    "        if (Y[i][0] == number):\n",
    "            result[i][0] = 1\n",
    "        else:\n",
    "            result[i][0] = 0\n",
    "    return result\n",
    "        "
   ]
  },
  {
   "cell_type": "code",
   "execution_count": 25,
   "metadata": {},
   "outputs": [
    {
     "ename": "TypeError",
     "evalue": "gradientDescent() takes 5 positional arguments but 6 were given",
     "output_type": "error",
     "traceback": [
      "\u001b[0;31m---------------------------------------------------------------------------\u001b[0m",
      "\u001b[0;31mTypeError\u001b[0m                                 Traceback (most recent call last)",
      "\u001b[0;32m<ipython-input-25-35f92ac1ddf1>\u001b[0m in \u001b[0;36m<module>\u001b[0;34m\u001b[0m\n\u001b[1;32m      4\u001b[0m \u001b[0mtheta0\u001b[0m \u001b[0;34m=\u001b[0m \u001b[0mnp\u001b[0m\u001b[0;34m.\u001b[0m\u001b[0mones\u001b[0m\u001b[0;34m(\u001b[0m\u001b[0;34m[\u001b[0m\u001b[0mlength\u001b[0m\u001b[0;34m,\u001b[0m\u001b[0;36m1\u001b[0m\u001b[0;34m]\u001b[0m\u001b[0;34m)\u001b[0m\u001b[0;34m\u001b[0m\u001b[0;34m\u001b[0m\u001b[0m\n\u001b[1;32m      5\u001b[0m \u001b[0mtempY0\u001b[0m \u001b[0;34m=\u001b[0m \u001b[0moneVSAll\u001b[0m\u001b[0;34m(\u001b[0m\u001b[0mtrainingResults\u001b[0m\u001b[0;34m,\u001b[0m\u001b[0;36m0\u001b[0m\u001b[0;34m)\u001b[0m\u001b[0;34m\u001b[0m\u001b[0;34m\u001b[0m\u001b[0m\n\u001b[0;32m----> 6\u001b[0;31m \u001b[0mtheta0\u001b[0m \u001b[0;34m=\u001b[0m \u001b[0mMT\u001b[0m\u001b[0;34m.\u001b[0m\u001b[0mgradientDescent\u001b[0m\u001b[0;34m(\u001b[0m\u001b[0mtrainingDataset\u001b[0m\u001b[0;34m,\u001b[0m\u001b[0mtempY0\u001b[0m\u001b[0;34m,\u001b[0m\u001b[0mtheta0\u001b[0m\u001b[0;34m,\u001b[0m\u001b[0malpha\u001b[0m\u001b[0;34m,\u001b[0m\u001b[0miterations\u001b[0m\u001b[0;34m)\u001b[0m\u001b[0;34m\u001b[0m\u001b[0;34m\u001b[0m\u001b[0m\n\u001b[0m\u001b[1;32m      7\u001b[0m \u001b[0mprint\u001b[0m\u001b[0;34m(\u001b[0m\u001b[0mtheta0\u001b[0m\u001b[0;34m)\u001b[0m\u001b[0;34m\u001b[0m\u001b[0;34m\u001b[0m\u001b[0m\n\u001b[1;32m      8\u001b[0m \u001b[0;34m\u001b[0m\u001b[0m\n",
      "\u001b[0;31mTypeError\u001b[0m: gradientDescent() takes 5 positional arguments but 6 were given"
     ]
    }
   ],
   "source": [
    "iterations = 20000\n",
    "alpha = 0.03\n",
    "length = X.shape[1]\n",
    "theta0 = np.ones([length,1])\n",
    "tempY0 = oneVSAll(trainingResults,0)\n",
    "theta0 = MT.gradientDescent(trainingDataset,tempY0,theta0,alpha,iterations)\n",
    "print(theta0)\n",
    "\n",
    "theta1 = np.ones([length,1])\n",
    "tempY1 = oneVSAll(trainingResults,1)\n",
    "theta1 = MT.gradientDescent(trainingDataset,tempY1,theta1,alpha,iterations)\n",
    "print(theta1)\n",
    "\n",
    "theta2 = np.ones([length,1])\n",
    "tempY2 = oneVSAll(trainingResults,2)\n",
    "theta2 = MT.gradientDescent(trainingDataset,tempY2,theta2,alpha,iterations)\n",
    "print(theta2)"
   ]
  },
  {
   "cell_type": "code",
   "execution_count": null,
   "metadata": {},
   "outputs": [],
   "source": []
  }
 ],
 "metadata": {
  "kernelspec": {
   "display_name": "Python 3",
   "language": "python",
   "name": "python3"
  },
  "language_info": {
   "codemirror_mode": {
    "name": "ipython",
    "version": 3
   },
   "file_extension": ".py",
   "mimetype": "text/x-python",
   "name": "python",
   "nbconvert_exporter": "python",
   "pygments_lexer": "ipython3",
   "version": "3.9.0"
  }
 },
 "nbformat": 4,
 "nbformat_minor": 4
}
