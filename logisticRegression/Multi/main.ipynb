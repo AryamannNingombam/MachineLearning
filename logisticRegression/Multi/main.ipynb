{
 "cells": [
  {
   "cell_type": "code",
   "execution_count": 8,
   "metadata": {},
   "outputs": [],
   "source": [
    "import numpy as np\n",
    "import pandas as pn\n",
    "import sys\n",
    "sys.path.append(\"../\")\n",
    "from logisticMethods import LogisticRegressionMethods as METHODS\n",
    "#setosa ->0\n",
    "# versicolor->1\n",
    "#virginica ->2\n",
    "values = [\n",
    "    'setosa','versicolor','virginica'\n",
    "]\n",
    "MT = METHODS()\n"
   ]
  },
  {
   "cell_type": "code",
   "execution_count": 9,
   "metadata": {},
   "outputs": [
    {
     "name": "stdout",
     "output_type": "stream",
     "text": [
      "(150, 4)\n",
      "(150, 1)\n",
      "[0.82530129 0.43214658 1.75852918 0.76061262]\n"
     ]
    }
   ],
   "source": [
    "fullDataset = MT.removeBlanks(pn.read_csv(\"./Iris/iris.csv\").values)\n",
    "[X,Y] = MT.returnXY(fullDataset)\n",
    "print(X.shape)\n",
    "print(Y.shape)\n",
    "[X,means,stds] = MT.scaleDown(X)\n",
    "print(stds)"
   ]
  },
  {
   "cell_type": "code",
   "execution_count": 10,
   "metadata": {},
   "outputs": [
    {
     "name": "stdout",
     "output_type": "stream",
     "text": [
      "[5.84333333 3.054      3.75866667 1.19866667]\n"
     ]
    }
   ],
   "source": [
    "print(means)\n",
    "X = MT.addOne(X)\n",
    "[trainingDataset,testingDataset] = MT.splitDataset(X)\n",
    "[trainingResults,testingResults] = MT.splitDataset(Y)"
   ]
  },
  {
   "cell_type": "code",
   "execution_count": 11,
   "metadata": {},
   "outputs": [],
   "source": [
    "def oneVSAll(Y,number):\n",
    "    return Y==number"
   ]
  },
  {
   "cell_type": "code",
   "execution_count": 12,
   "metadata": {},
   "outputs": [],
   "source": [
    "def getMax(arr1,arr2,arr3,length):\n",
    "    print(length)\n",
    "    finalResult = np.ones([length,1])\n",
    "    \n",
    "    for i in range(length):\n",
    "        tempDict = {str(arr1[i]) : 0,str(arr2[i]) : 1,str(arr3[i]) : 2}\n",
    "        tempResult = max(arr1[i],arr2[i],arr3[i])\n",
    "        finalResult[i] = tempDict[str(tempResult)]\n",
    "    return finalResult"
   ]
  },
  {
   "cell_type": "code",
   "execution_count": 13,
   "metadata": {},
   "outputs": [
    {
     "name": "stdout",
     "output_type": "stream",
     "text": [
      "[[-5.15328358]\n",
      " [-2.06975661]\n",
      " [ 3.29092737]\n",
      " [-4.83942775]\n",
      " [-4.42517497]]\n"
     ]
    }
   ],
   "source": [
    "iterations = 20000\n",
    "alpha = 0.3\n",
    "length = X.shape[1]\n",
    "\n",
    "\n",
    "tempY0 = oneVSAll(trainingResults,0)\n",
    "theta0 = MT.gradientDescent(trainingDataset,tempY0,np.ones([length,1]),alpha,iterations)\n",
    "# theta0 = np.array([[-4.41151074]\n",
    "#  [-1.8981038 ]\n",
    "#  [ 2.96538444]\n",
    "#  [-4.14109387]\n",
    "#  [-3.77202671]])\n",
    "print(theta0)\n",
    "\n",
    "\n",
    "theta1 = np.ones([length,1])\n",
    "tempY1 = oneVSAll(trainingResults,1)\n",
    "theta1 = MT.gradientDescent(trainingDataset,tempY1,theta1,alpha,iterations)\n",
    "# theta1 = np.array([[-0.47353269]\n",
    "#  [-0.51104327]\n",
    "#  [-1.13774076]\n",
    "#  [ 3.48600275]\n",
    "#  [-2.48781406]])\n",
    "\n",
    "\n",
    "theta2 = np.ones([length,1])\n",
    "tempY2 = oneVSAll(trainingResults,2)\n",
    "theta2 = MT.gradientDescent(trainingDataset,tempY2,theta2,alpha,iterations)\n",
    "# theta2 = np.array([[-10.33232867]\n",
    "#  [ -0.39743409]\n",
    "#  [ -0.79501535]\n",
    "#  [  9.06281166]\n",
    "#  [  6.05402489]])\n"
   ]
  },
  {
   "cell_type": "code",
   "execution_count": 14,
   "metadata": {},
   "outputs": [
    {
     "name": "stdout",
     "output_type": "stream",
     "text": [
      "45\n",
      "Running 45 tests...\n",
      "12\n"
     ]
    }
   ],
   "source": [
    "totalTestCases = len(testingResults)\n",
    "result0 = (MT.sigmoid(np.matmul(trainingDataset,theta0)))\n",
    "result1 = (MT.sigmoid(np.matmul(trainingDataset,theta1)))\n",
    "result2 = (MT.sigmoid(np.matmul(trainingDataset,theta2)))\n",
    "finalResult = getMax(result0,result1,result2,totalTestCases)\n",
    "print(f\"Running {totalTestCases} tests...\")\n",
    "right = 0\n",
    "for i in range(totalTestCases):\n",
    "    if (finalResult[i] == testingResults[i]):\n",
    "        right+=1\n",
    "print(right)\n",
    "    \n",
    "    \n"
   ]
  }
 ],
 "metadata": {
  "kernelspec": {
   "display_name": "Python 3",
   "language": "python",
   "name": "python3"
  },
  "language_info": {
   "codemirror_mode": {
    "name": "ipython",
    "version": 3
   },
   "file_extension": ".py",
   "mimetype": "text/x-python",
   "name": "python",
   "nbconvert_exporter": "python",
   "pygments_lexer": "ipython3",
   "version": "3.9.0"
  }
 },
 "nbformat": 4,
 "nbformat_minor": 4
}
